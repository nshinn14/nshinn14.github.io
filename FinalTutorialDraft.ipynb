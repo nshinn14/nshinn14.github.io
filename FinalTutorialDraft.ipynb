{
 "cells": [
  {
   "cell_type": "markdown",
   "metadata": {},
   "source": [
    "# Final Tutorial - Global Terrorism Data Analysis\n",
    "### Brian Lee and Nick Shinn"
   ]
  },
  {
   "cell_type": "markdown",
   "metadata": {},
   "source": [
    "## Introduction\n",
    "\n",
    "In this tutorial, you will apply data science to explore correlations that exist within global terrorism data, using the Global Terrorism Database maintained by the START consortium. We will first visualize the global data in various ways to form a better intuition on possible correlations that may exist. Using compiled features such as date and location, we will hypothesize what related factors may play a role in determining the likelihood of a terrorist attack and cross reference data outside the original dataset to test our hypotheses. (statistical Analysis blah blah)\n",
    "\n",
    "We will be using mushroom data provided by UC Irvine to train our machine learning algorithms, and rely heavily on the python toolkit scikit-learn. The tutorial will walk through the process of creating decision trees and support vector machines for a binary classification given categorical features, which often makes analysis slightly more difficult.\n",
    "While mushrooms are not often life-threatening or life-changing, these supervised learning algorithms are applicable to almost any classification problem. And, of course, this isn't to say that mushrooms aren't ever life-changing."
   ]
  },
  {
   "cell_type": "markdown",
   "metadata": {},
   "source": [
    "## Getting Started\n",
    "Before you begin, you will need to install a few libraries. First, confirm you have the python package manager 'pip' installed on your computer. Installation instructions can be found online.\n",
    "\n",
    "You may find the Global Terrorism Database at https://www.kaggle.com/START-UMD/gtd or access it directly through this git repository in the Datasets/Terrorism/ directory. The version in the repository is modified to only include the data from 1990 onwards as the total file exceeds the file size limit."
   ]
  },
  {
   "cell_type": "markdown",
   "metadata": {},
   "source": [
    "### Installing Packages\n",
    "Before beginning you must install all required packages:\n",
    "- numpy \n",
    "- matplotlib\n",
    "- pandas\n",
    "- folium\n",
    "- seaborn\n",
    "- sklearn\n",
    "- statsmodels\n",
    "\n",
    "If any are missing you may install them through your computer's shell or directly through this tutorial using the script below."
   ]
  },
  {
   "cell_type": "code",
   "execution_count": 2,
   "metadata": {
    "collapsed": true
   },
   "outputs": [],
   "source": [
    "%%capture\n",
    "import pip\n",
    "def install(package):\n",
    "   pip.main(['install', package])\n",
    "\n",
    "install('numpy')\n",
    "install('matplotlib')\n",
    "install('pandas')\n",
    "install('folium')\n",
    "install('seabord')\n",
    "install('sklearn')\n",
    "install('statsmodels')"
   ]
  },
  {
   "cell_type": "markdown",
   "metadata": {},
   "source": [
    "### Importing Packages\n",
    "Now that we have the packages we need we can import and alias them for this tutorial"
   ]
  },
  {
   "cell_type": "code",
   "execution_count": 3,
   "metadata": {
    "collapsed": true
   },
   "outputs": [],
   "source": [
    "import pandas as pd, numpy as np\n",
    "import matplotlib.pyplot as plt, seaborn as sns\n",
    "import csv, folium\n",
    "from datetime import datetime\n",
    "from folium.plugins import HeatMapWithTime\n",
    "%matplotlib inline"
   ]
  },
  {
   "cell_type": "markdown",
   "metadata": {},
   "source": [
    "# I. Data Collection and Processing\n",
    "## Cleaning\n",
    "We want to pull in our global terrorism data as a pandas dataframe to begin"
   ]
  },
  {
   "cell_type": "code",
   "execution_count": 93,
   "metadata": {},
   "outputs": [
    {
     "data": {
      "text/html": [
       "<div>\n",
       "<table border=\"1\" class=\"dataframe\">\n",
       "  <thead>\n",
       "    <tr style=\"text-align: right;\">\n",
       "      <th></th>\n",
       "      <th>Unnamed: 0</th>\n",
       "      <th>eventid</th>\n",
       "      <th>iyear</th>\n",
       "      <th>imonth</th>\n",
       "      <th>iday</th>\n",
       "      <th>approxdate</th>\n",
       "      <th>extended</th>\n",
       "      <th>resolution</th>\n",
       "      <th>country</th>\n",
       "      <th>country_txt</th>\n",
       "      <th>...</th>\n",
       "      <th>crit2</th>\n",
       "      <th>crit3</th>\n",
       "      <th>doubtterr</th>\n",
       "      <th>alternative</th>\n",
       "      <th>alternative_txt</th>\n",
       "      <th>multiple</th>\n",
       "      <th>success</th>\n",
       "      <th>suicide</th>\n",
       "      <th>attacktype1</th>\n",
       "      <th>attacktype1_txt</th>\n",
       "    </tr>\n",
       "  </thead>\n",
       "  <tbody>\n",
       "    <tr>\n",
       "      <th>0</th>\n",
       "      <td>0</td>\n",
       "      <td>197000000001</td>\n",
       "      <td>1970</td>\n",
       "      <td>7</td>\n",
       "      <td>2</td>\n",
       "      <td>NaN</td>\n",
       "      <td>0</td>\n",
       "      <td>NaN</td>\n",
       "      <td>58</td>\n",
       "      <td>Dominican Republic</td>\n",
       "      <td>...</td>\n",
       "      <td>1</td>\n",
       "      <td>1</td>\n",
       "      <td>0</td>\n",
       "      <td>NaN</td>\n",
       "      <td>NaN</td>\n",
       "      <td>0</td>\n",
       "      <td>1</td>\n",
       "      <td>0</td>\n",
       "      <td>1</td>\n",
       "      <td>Assassination</td>\n",
       "    </tr>\n",
       "    <tr>\n",
       "      <th>1</th>\n",
       "      <td>1</td>\n",
       "      <td>197000000002</td>\n",
       "      <td>1970</td>\n",
       "      <td>0</td>\n",
       "      <td>0</td>\n",
       "      <td>NaN</td>\n",
       "      <td>0</td>\n",
       "      <td>NaN</td>\n",
       "      <td>130</td>\n",
       "      <td>Mexico</td>\n",
       "      <td>...</td>\n",
       "      <td>1</td>\n",
       "      <td>1</td>\n",
       "      <td>0</td>\n",
       "      <td>NaN</td>\n",
       "      <td>NaN</td>\n",
       "      <td>0</td>\n",
       "      <td>1</td>\n",
       "      <td>0</td>\n",
       "      <td>6</td>\n",
       "      <td>Hostage Taking (Kidnapping)</td>\n",
       "    </tr>\n",
       "    <tr>\n",
       "      <th>2</th>\n",
       "      <td>2</td>\n",
       "      <td>197001000001</td>\n",
       "      <td>1970</td>\n",
       "      <td>1</td>\n",
       "      <td>0</td>\n",
       "      <td>NaN</td>\n",
       "      <td>0</td>\n",
       "      <td>NaN</td>\n",
       "      <td>160</td>\n",
       "      <td>Philippines</td>\n",
       "      <td>...</td>\n",
       "      <td>1</td>\n",
       "      <td>1</td>\n",
       "      <td>0</td>\n",
       "      <td>NaN</td>\n",
       "      <td>NaN</td>\n",
       "      <td>0</td>\n",
       "      <td>1</td>\n",
       "      <td>0</td>\n",
       "      <td>1</td>\n",
       "      <td>Assassination</td>\n",
       "    </tr>\n",
       "    <tr>\n",
       "      <th>3</th>\n",
       "      <td>3</td>\n",
       "      <td>197001000002</td>\n",
       "      <td>1970</td>\n",
       "      <td>1</td>\n",
       "      <td>0</td>\n",
       "      <td>NaN</td>\n",
       "      <td>0</td>\n",
       "      <td>NaN</td>\n",
       "      <td>78</td>\n",
       "      <td>Greece</td>\n",
       "      <td>...</td>\n",
       "      <td>1</td>\n",
       "      <td>1</td>\n",
       "      <td>0</td>\n",
       "      <td>NaN</td>\n",
       "      <td>NaN</td>\n",
       "      <td>0</td>\n",
       "      <td>1</td>\n",
       "      <td>0</td>\n",
       "      <td>3</td>\n",
       "      <td>Bombing/Explosion</td>\n",
       "    </tr>\n",
       "    <tr>\n",
       "      <th>4</th>\n",
       "      <td>4</td>\n",
       "      <td>197001000003</td>\n",
       "      <td>1970</td>\n",
       "      <td>1</td>\n",
       "      <td>0</td>\n",
       "      <td>NaN</td>\n",
       "      <td>0</td>\n",
       "      <td>NaN</td>\n",
       "      <td>101</td>\n",
       "      <td>Japan</td>\n",
       "      <td>...</td>\n",
       "      <td>1</td>\n",
       "      <td>1</td>\n",
       "      <td>-9</td>\n",
       "      <td>NaN</td>\n",
       "      <td>NaN</td>\n",
       "      <td>0</td>\n",
       "      <td>1</td>\n",
       "      <td>0</td>\n",
       "      <td>7</td>\n",
       "      <td>Facility/Infrastructure Attack</td>\n",
       "    </tr>\n",
       "  </tbody>\n",
       "</table>\n",
       "<p>5 rows × 31 columns</p>\n",
       "</div>"
      ],
      "text/plain": [
       "   Unnamed: 0       eventid  iyear  imonth  iday approxdate  extended  \\\n",
       "0           0  197000000001   1970       7     2        NaN         0   \n",
       "1           1  197000000002   1970       0     0        NaN         0   \n",
       "2           2  197001000001   1970       1     0        NaN         0   \n",
       "3           3  197001000002   1970       1     0        NaN         0   \n",
       "4           4  197001000003   1970       1     0        NaN         0   \n",
       "\n",
       "  resolution  country         country_txt               ...                \\\n",
       "0        NaN       58  Dominican Republic               ...                 \n",
       "1        NaN      130              Mexico               ...                 \n",
       "2        NaN      160         Philippines               ...                 \n",
       "3        NaN       78              Greece               ...                 \n",
       "4        NaN      101               Japan               ...                 \n",
       "\n",
       "   crit2 crit3 doubtterr alternative  alternative_txt  multiple  success  \\\n",
       "0      1     1         0         NaN              NaN         0        1   \n",
       "1      1     1         0         NaN              NaN         0        1   \n",
       "2      1     1         0         NaN              NaN         0        1   \n",
       "3      1     1         0         NaN              NaN         0        1   \n",
       "4      1     1        -9         NaN              NaN         0        1   \n",
       "\n",
       "   suicide attacktype1                 attacktype1_txt  \n",
       "0        0           1                   Assassination  \n",
       "1        0           6     Hostage Taking (Kidnapping)  \n",
       "2        0           1                   Assassination  \n",
       "3        0           3               Bombing/Explosion  \n",
       "4        0           7  Facility/Infrastructure Attack  \n",
       "\n",
       "[5 rows x 31 columns]"
      ]
     },
     "execution_count": 93,
     "metadata": {},
     "output_type": "execute_result"
    }
   ],
   "source": [
    "gtd_table = pd.read_csv(\"./Datasets/Terrorism/gtd_30cols.csv\", encoding='latin1', low_memory=False)\n",
    "gtd_table.head()"
   ]
  },
  {
   "cell_type": "markdown",
   "metadata": {},
   "source": [
    "### Selecting Desired Columns"
   ]
  },
  {
   "cell_type": "markdown",
   "metadata": {},
   "source": [
    "The columns we are interested in looking at are the ones containing time and location data. We'll save the eventid and attacktype1 along with the time/location columns in case we find a need for it later. Once we've selected our columns we'll rename them for readability."
   ]
  },
  {
   "cell_type": "code",
   "execution_count": 94,
   "metadata": {
    "scrolled": false
   },
   "outputs": [],
   "source": [
    "# Retrieve desirable columns\n",
    "column_names = ['eventid', 'iyear', 'imonth', 'iday', 'country_txt', 'provstate', 'city', 'latitude', 'longitude', 'attacktype1_txt']\n",
    "gtd_table = gtd_table[column_names]\n",
    "\n",
    "# Rename columns\n",
    "new_column_names = ['id', 'year', 'month', 'day', 'country', 'provstate', 'city', 'latitude', 'longitude', 'attacktype']\n",
    "gtd_table.columns = new_column_names"
   ]
  },
  {
   "cell_type": "markdown",
   "metadata": {},
   "source": [
    "### Modifying Faulty Entries"
   ]
  },
  {
   "cell_type": "code",
   "execution_count": 95,
   "metadata": {},
   "outputs": [
    {
     "data": {
      "text/html": [
       "<div>\n",
       "<table border=\"1\" class=\"dataframe\">\n",
       "  <thead>\n",
       "    <tr style=\"text-align: right;\">\n",
       "      <th></th>\n",
       "      <th>id</th>\n",
       "      <th>year</th>\n",
       "      <th>month</th>\n",
       "      <th>day</th>\n",
       "      <th>latitude</th>\n",
       "      <th>longitude</th>\n",
       "    </tr>\n",
       "  </thead>\n",
       "  <tbody>\n",
       "    <tr>\n",
       "      <th>count</th>\n",
       "      <td>1.703500e+05</td>\n",
       "      <td>170350.000000</td>\n",
       "      <td>170350.000000</td>\n",
       "      <td>170350.000000</td>\n",
       "      <td>165744.000000</td>\n",
       "      <td>165744.000000</td>\n",
       "    </tr>\n",
       "    <tr>\n",
       "      <th>mean</th>\n",
       "      <td>2.001776e+11</td>\n",
       "      <td>2001.709997</td>\n",
       "      <td>6.474365</td>\n",
       "      <td>15.466845</td>\n",
       "      <td>23.399774</td>\n",
       "      <td>26.350909</td>\n",
       "    </tr>\n",
       "    <tr>\n",
       "      <th>std</th>\n",
       "      <td>1.314444e+09</td>\n",
       "      <td>13.144146</td>\n",
       "      <td>3.392364</td>\n",
       "      <td>8.817929</td>\n",
       "      <td>18.844885</td>\n",
       "      <td>58.570068</td>\n",
       "    </tr>\n",
       "    <tr>\n",
       "      <th>min</th>\n",
       "      <td>1.970000e+11</td>\n",
       "      <td>1970.000000</td>\n",
       "      <td>0.000000</td>\n",
       "      <td>0.000000</td>\n",
       "      <td>-53.154613</td>\n",
       "      <td>-176.176447</td>\n",
       "    </tr>\n",
       "    <tr>\n",
       "      <th>25%</th>\n",
       "      <td>1.990053e+11</td>\n",
       "      <td>1990.000000</td>\n",
       "      <td>4.000000</td>\n",
       "      <td>8.000000</td>\n",
       "      <td>11.263580</td>\n",
       "      <td>2.396199</td>\n",
       "    </tr>\n",
       "    <tr>\n",
       "      <th>50%</th>\n",
       "      <td>2.007121e+11</td>\n",
       "      <td>2007.000000</td>\n",
       "      <td>6.000000</td>\n",
       "      <td>15.000000</td>\n",
       "      <td>31.472680</td>\n",
       "      <td>43.130000</td>\n",
       "    </tr>\n",
       "    <tr>\n",
       "      <th>75%</th>\n",
       "      <td>2.014023e+11</td>\n",
       "      <td>2014.000000</td>\n",
       "      <td>9.000000</td>\n",
       "      <td>23.000000</td>\n",
       "      <td>34.744167</td>\n",
       "      <td>68.451297</td>\n",
       "    </tr>\n",
       "    <tr>\n",
       "      <th>max</th>\n",
       "      <td>2.017013e+11</td>\n",
       "      <td>2016.000000</td>\n",
       "      <td>12.000000</td>\n",
       "      <td>31.000000</td>\n",
       "      <td>74.633553</td>\n",
       "      <td>179.366667</td>\n",
       "    </tr>\n",
       "  </tbody>\n",
       "</table>\n",
       "</div>"
      ],
      "text/plain": [
       "                 id           year          month            day  \\\n",
       "count  1.703500e+05  170350.000000  170350.000000  170350.000000   \n",
       "mean   2.001776e+11    2001.709997       6.474365      15.466845   \n",
       "std    1.314444e+09      13.144146       3.392364       8.817929   \n",
       "min    1.970000e+11    1970.000000       0.000000       0.000000   \n",
       "25%    1.990053e+11    1990.000000       4.000000       8.000000   \n",
       "50%    2.007121e+11    2007.000000       6.000000      15.000000   \n",
       "75%    2.014023e+11    2014.000000       9.000000      23.000000   \n",
       "max    2.017013e+11    2016.000000      12.000000      31.000000   \n",
       "\n",
       "            latitude      longitude  \n",
       "count  165744.000000  165744.000000  \n",
       "mean       23.399774      26.350909  \n",
       "std        18.844885      58.570068  \n",
       "min       -53.154613    -176.176447  \n",
       "25%        11.263580       2.396199  \n",
       "50%        31.472680      43.130000  \n",
       "75%        34.744167      68.451297  \n",
       "max        74.633553     179.366667  "
      ]
     },
     "execution_count": 95,
     "metadata": {},
     "output_type": "execute_result"
    }
   ],
   "source": [
    "gtd_table.describe()"
   ]
  },
  {
   "cell_type": "markdown",
   "metadata": {},
   "source": [
    "Looking at the table above we see that there are entries where the month, day, or both are logged as 0. Upon inspection we see see that when either descriptor is 0 the associated entry is either incomplete or an attack that spanned multiple days. Since either scenario can be unreliable for temporal data analysis, we will drop any rows containing a 0 in either column."
   ]
  },
  {
   "cell_type": "code",
   "execution_count": 96,
   "metadata": {
    "collapsed": true
   },
   "outputs": [],
   "source": [
    "gtd_table = gtd_table[gtd_table.month != 0]\n",
    "gtd_table = gtd_table[gtd_table.day != 0]\n",
    "gtd_table = gtd_table.reset_index(drop=True)"
   ]
  },
  {
   "cell_type": "markdown",
   "metadata": {},
   "source": [
    "The other column we would like to have is a date column that has the collective year-month of an event so that we can more easily create generate a graphp grouped by this column"
   ]
  },
  {
   "cell_type": "code",
   "execution_count": 97,
   "metadata": {},
   "outputs": [],
   "source": [
    "gtd_table['date'] = gtd_table.apply(lambda row: '%d-%02d' %(row.year, row.month), axis=1)"
   ]
  },
  {
   "cell_type": "markdown",
   "metadata": {},
   "source": [
    "Now, there are two additional columns we want to create to make our exploratory analysis easier. The first is a column indicating the day of the year that the event occured. Using this we can more easily generate time-dependent imaging of the occurence of events. We save this value as a single integer."
   ]
  },
  {
   "cell_type": "code",
   "execution_count": 101,
   "metadata": {},
   "outputs": [
    {
     "data": {
      "text/html": [
       "<div>\n",
       "<table border=\"1\" class=\"dataframe\">\n",
       "  <thead>\n",
       "    <tr style=\"text-align: right;\">\n",
       "      <th></th>\n",
       "      <th>id</th>\n",
       "      <th>year</th>\n",
       "      <th>month</th>\n",
       "      <th>day</th>\n",
       "      <th>country</th>\n",
       "      <th>provstate</th>\n",
       "      <th>city</th>\n",
       "      <th>latitude</th>\n",
       "      <th>longitude</th>\n",
       "      <th>attacktype</th>\n",
       "      <th>date</th>\n",
       "      <th>dayofyear</th>\n",
       "    </tr>\n",
       "  </thead>\n",
       "  <tbody>\n",
       "    <tr>\n",
       "      <th>0</th>\n",
       "      <td>197000000001</td>\n",
       "      <td>1970</td>\n",
       "      <td>7</td>\n",
       "      <td>2</td>\n",
       "      <td>Dominican Republic</td>\n",
       "      <td>NaN</td>\n",
       "      <td>Santo Domingo</td>\n",
       "      <td>18.456792</td>\n",
       "      <td>-69.951164</td>\n",
       "      <td>Assassination</td>\n",
       "      <td>1970-07</td>\n",
       "      <td>183</td>\n",
       "    </tr>\n",
       "    <tr>\n",
       "      <th>1</th>\n",
       "      <td>197001010002</td>\n",
       "      <td>1970</td>\n",
       "      <td>1</td>\n",
       "      <td>1</td>\n",
       "      <td>United States</td>\n",
       "      <td>Illinois</td>\n",
       "      <td>Cairo</td>\n",
       "      <td>37.005105</td>\n",
       "      <td>-89.176269</td>\n",
       "      <td>Armed Assault</td>\n",
       "      <td>1970-01</td>\n",
       "      <td>1</td>\n",
       "    </tr>\n",
       "    <tr>\n",
       "      <th>2</th>\n",
       "      <td>197001020001</td>\n",
       "      <td>1970</td>\n",
       "      <td>1</td>\n",
       "      <td>2</td>\n",
       "      <td>Uruguay</td>\n",
       "      <td>Montevideo</td>\n",
       "      <td>Montevideo</td>\n",
       "      <td>-34.891151</td>\n",
       "      <td>-56.187214</td>\n",
       "      <td>Assassination</td>\n",
       "      <td>1970-01</td>\n",
       "      <td>2</td>\n",
       "    </tr>\n",
       "    <tr>\n",
       "      <th>3</th>\n",
       "      <td>197001020002</td>\n",
       "      <td>1970</td>\n",
       "      <td>1</td>\n",
       "      <td>2</td>\n",
       "      <td>United States</td>\n",
       "      <td>California</td>\n",
       "      <td>Oakland</td>\n",
       "      <td>37.805065</td>\n",
       "      <td>-122.273024</td>\n",
       "      <td>Bombing/Explosion</td>\n",
       "      <td>1970-01</td>\n",
       "      <td>2</td>\n",
       "    </tr>\n",
       "    <tr>\n",
       "      <th>4</th>\n",
       "      <td>197001020003</td>\n",
       "      <td>1970</td>\n",
       "      <td>1</td>\n",
       "      <td>2</td>\n",
       "      <td>United States</td>\n",
       "      <td>Wisconsin</td>\n",
       "      <td>Madison</td>\n",
       "      <td>43.076592</td>\n",
       "      <td>-89.412488</td>\n",
       "      <td>Facility/Infrastructure Attack</td>\n",
       "      <td>1970-01</td>\n",
       "      <td>2</td>\n",
       "    </tr>\n",
       "  </tbody>\n",
       "</table>\n",
       "</div>"
      ],
      "text/plain": [
       "             id  year  month  day             country   provstate  \\\n",
       "0  197000000001  1970      7    2  Dominican Republic         NaN   \n",
       "1  197001010002  1970      1    1       United States    Illinois   \n",
       "2  197001020001  1970      1    2             Uruguay  Montevideo   \n",
       "3  197001020002  1970      1    2       United States  California   \n",
       "4  197001020003  1970      1    2       United States   Wisconsin   \n",
       "\n",
       "            city   latitude   longitude                      attacktype  \\\n",
       "0  Santo Domingo  18.456792  -69.951164                   Assassination   \n",
       "1          Cairo  37.005105  -89.176269                   Armed Assault   \n",
       "2     Montevideo -34.891151  -56.187214                   Assassination   \n",
       "3        Oakland  37.805065 -122.273024               Bombing/Explosion   \n",
       "4        Madison  43.076592  -89.412488  Facility/Infrastructure Attack   \n",
       "\n",
       "      date  dayofyear  \n",
       "0  1970-07        183  \n",
       "1  1970-01          1  \n",
       "2  1970-01          2  \n",
       "3  1970-01          2  \n",
       "4  1970-01          2  "
      ]
     },
     "execution_count": 101,
     "metadata": {},
     "output_type": "execute_result"
    }
   ],
   "source": [
    "# Converting year, month, day columns to days of year\n",
    "daysofyear = []\n",
    "months = []\n",
    "days = []\n",
    "for index,row in gtd_table.iterrows():\n",
    "    year = row['year']\n",
    "    month = row['month']\n",
    "    day = row['day']\n",
    "    daysofyear.append(datetime(year,month,day).timetuple().tm_yday)\n",
    "    months.append(month)\n",
    "    days.append(day)\n",
    "gtd_table['dayofyear'] = daysofyear\n",
    "gtd_table.head()"
   ]
  },
  {
   "cell_type": "markdown",
   "metadata": {},
   "source": [
    "# II. Exploratory Data Analysis and Visualization"
   ]
  },
  {
   "cell_type": "markdown",
   "metadata": {},
   "source": [
    "## Temporal Data"
   ]
  },
  {
   "cell_type": "markdown",
   "metadata": {},
   "source": [
    "### Chronological Counts by Month"
   ]
  },
  {
   "cell_type": "markdown",
   "metadata": {},
   "source": [
    "Now that we have our desired columns let's take a look at the occurences of global terrorist attacks by month."
   ]
  },
  {
   "cell_type": "code",
   "execution_count": 150,
   "metadata": {
    "scrolled": true
   },
   "outputs": [
    {
     "data": {
      "text/html": [
       "<div>\n",
       "<table border=\"1\" class=\"dataframe\">\n",
       "  <thead>\n",
       "    <tr style=\"text-align: right;\">\n",
       "      <th></th>\n",
       "      <th>date</th>\n",
       "      <th>count</th>\n",
       "    </tr>\n",
       "  </thead>\n",
       "  <tbody>\n",
       "    <tr>\n",
       "      <th>0</th>\n",
       "      <td>1970-01</td>\n",
       "      <td>36</td>\n",
       "    </tr>\n",
       "    <tr>\n",
       "      <th>1</th>\n",
       "      <td>1970-02</td>\n",
       "      <td>55</td>\n",
       "    </tr>\n",
       "    <tr>\n",
       "      <th>2</th>\n",
       "      <td>1970-03</td>\n",
       "      <td>68</td>\n",
       "    </tr>\n",
       "    <tr>\n",
       "      <th>3</th>\n",
       "      <td>1970-04</td>\n",
       "      <td>78</td>\n",
       "    </tr>\n",
       "    <tr>\n",
       "      <th>4</th>\n",
       "      <td>1970-05</td>\n",
       "      <td>70</td>\n",
       "    </tr>\n",
       "  </tbody>\n",
       "</table>\n",
       "</div>"
      ],
      "text/plain": [
       "      date  count\n",
       "0  1970-01     36\n",
       "1  1970-02     55\n",
       "2  1970-03     68\n",
       "3  1970-04     78\n",
       "4  1970-05     70"
      ]
     },
     "execution_count": 150,
     "metadata": {},
     "output_type": "execute_result"
    }
   ],
   "source": [
    "# Group table by date into counts\n",
    "glo_chm = gtd_table[['date','id']].groupby(['date']).count()\n",
    "glo_chm = glo_chm.rename(index=str, columns={'id':'count'})\n",
    "glo_chm = glo_chm.reset_index()\n",
    "glo_chm.head()"
   ]
  },
  {
   "cell_type": "markdown",
   "metadata": {},
   "source": [
    "We'll first want to establish some properly spaced labels from the data we have in order ot make our graph more readable. Then we can generate our graph."
   ]
  },
  {
   "cell_type": "code",
   "execution_count": 151,
   "metadata": {
    "collapsed": true
   },
   "outputs": [],
   "source": [
    "# Establish ticks and labels for this type of graph\n",
    "yearmax = gtd_table['year'].max()\n",
    "yearmin = gtd_table['year'].min()\n",
    "numyears = yearmax - yearmin + 1\n",
    "year_labels = range(yearmin, yearmax+1, 5)\n",
    "year_ticks = [60*i for i in range(int(numyears/5)+1)]"
   ]
  },
  {
   "cell_type": "code",
   "execution_count": 149,
   "metadata": {
    "scrolled": true
   },
   "outputs": [
    {
     "data": {
      "image/png": "[encoded data removed]",
      "text/plain": [
       "<matplotlib.figure.Figure at 0x7f0b1ab345c0>"
      ]
     },
     "metadata": {},
     "output_type": "display_data"
    }
   ],
   "source": [
    "# Graph and label figure\n",
    "fig, ax = plt.subplots(figsize=(15,5))\n",
    "sns.barplot(x='date',y='count',data=glo_chm)\n",
    "plt.title('Terrorist Attacks vs Month (Global)')\n",
    "plt.ylabel('Number of Attacks')\n",
    "plt.xlabel('Month')\n",
    "plt.xticks(year_ticks);\n",
    "ax.set_xticklabels(year_labels);"
   ]
  },
  {
   "cell_type": "markdown",
   "metadata": {},
   "source": [
    "From our graph we can see that there was a clear spike in the logging of global terrorist activity around the early 2000's. This can either be indicative of an increase in terrorist activity, most likely incited by a specific movement or group. \n",
    "\n",
    "Another pattern we notice is what seems to be a lull in terrorist activity between the late 1990's and mid-2000's. Activity then ramps up drastically at the turn of this decade. Is there really such a sharp difference in terrorist activity between the years? What metrics are being used to qualify the incident as a terrorist attack? Perhaps it's the classification or rate of successful logging for terrorist activity that has changed rather than the act itself.  "
   ]
  },
  {
   "cell_type": "markdown",
   "metadata": {},
   "source": [
    "### Chronological Counts by Year"
   ]
  },
  {
   "cell_type": "markdown",
   "metadata": {},
   "source": [
    "Let's try organizing the chronological data of attacks by year rather than month to make our visualization easier to understand."
   ]
  },
  {
   "cell_type": "code",
   "execution_count": 152,
   "metadata": {
    "scrolled": true
   },
   "outputs": [
    {
     "data": {
      "text/html": [
       "<div>\n",
       "<table border=\"1\" class=\"dataframe\">\n",
       "  <thead>\n",
       "    <tr style=\"text-align: right;\">\n",
       "      <th></th>\n",
       "      <th>year</th>\n",
       "      <th>count</th>\n",
       "    </tr>\n",
       "  </thead>\n",
       "  <tbody>\n",
       "    <tr>\n",
       "      <th>0</th>\n",
       "      <td>1970</td>\n",
       "      <td>636</td>\n",
       "    </tr>\n",
       "    <tr>\n",
       "      <th>1</th>\n",
       "      <td>1971</td>\n",
       "      <td>460</td>\n",
       "    </tr>\n",
       "    <tr>\n",
       "      <th>2</th>\n",
       "      <td>1972</td>\n",
       "      <td>489</td>\n",
       "    </tr>\n",
       "    <tr>\n",
       "      <th>3</th>\n",
       "      <td>1973</td>\n",
       "      <td>463</td>\n",
       "    </tr>\n",
       "    <tr>\n",
       "      <th>4</th>\n",
       "      <td>1974</td>\n",
       "      <td>571</td>\n",
       "    </tr>\n",
       "  </tbody>\n",
       "</table>\n",
       "</div>"
      ],
      "text/plain": [
       "   year  count\n",
       "0  1970    636\n",
       "1  1971    460\n",
       "2  1972    489\n",
       "3  1973    463\n",
       "4  1974    571"
      ]
     },
     "execution_count": 152,
     "metadata": {},
     "output_type": "execute_result"
    }
   ],
   "source": [
    "# Group table by date into counts\n",
    "glo_chy = gtd_table[['year','id']].groupby(['year']).count()\n",
    "glo_chy = glo_chy.rename(index=str, columns={'id':'count'})\n",
    "glo_chy = glo_chy.reset_index()\n",
    "glo_chy.head()"
   ]
  },
  {
   "cell_type": "code",
   "execution_count": 153,
   "metadata": {
    "collapsed": true
   },
   "outputs": [],
   "source": [
    "# Establish ticks and labels for this type of graph\n",
    "year_labels2 = range(yearmin, yearmax+1, 5)\n",
    "year_ticks2 = [5*i for i in range(int(numyears/5)+1)]"
   ]
  },
  {
   "cell_type": "markdown",
   "metadata": {},
   "source": [
    "We'll first want to establish some properly spaced labels from the data we have in order ot make our graph more readable. Then we can generate our graph."
   ]
  },
  {
   "cell_type": "code",
   "execution_count": 154,
   "metadata": {
    "scrolled": true
   },
   "outputs": [
    {
     "data": {
      "image/png": "[encoded data removed]",
      "text/plain": [
       "<matplotlib.figure.Figure at 0x7f0ace0e1470>"
      ]
     },
     "metadata": {},
     "output_type": "display_data"
    }
   ],
   "source": [
    "# Graph and label figure\n",
    "fig, ax = plt.subplots(figsize=(15,5))\n",
    "sns.barplot(x='year',y='count',data=glo_chy)\n",
    "plt.title('Terrorist Attacks vs Year (Global)')\n",
    "plt.ylabel('Number of Attacks')\n",
    "plt.xlabel('Year')\n",
    "plt.xticks(year_ticks2);\n",
    "ax.set_xticklabels(year_labels2);"
   ]
  },
  {
   "cell_type": "markdown",
   "metadata": {},
   "source": [
    "### Counts by Day of the Year"
   ]
  },
  {
   "cell_type": "markdown",
   "metadata": {},
   "source": [
    "Now let's generate a graph using our day of the year column. We can check for any trends in activity throughout the year."
   ]
  },
  {
   "cell_type": "code",
   "execution_count": 155,
   "metadata": {
    "scrolled": true
   },
   "outputs": [
    {
     "data": {
      "text/html": [
       "<div>\n",
       "<table border=\"1\" class=\"dataframe\">\n",
       "  <thead>\n",
       "    <tr style=\"text-align: right;\">\n",
       "      <th></th>\n",
       "      <th>dayofyear</th>\n",
       "      <th>count</th>\n",
       "    </tr>\n",
       "  </thead>\n",
       "  <tbody>\n",
       "    <tr>\n",
       "      <th>0</th>\n",
       "      <td>1</td>\n",
       "      <td>584</td>\n",
       "    </tr>\n",
       "    <tr>\n",
       "      <th>1</th>\n",
       "      <td>2</td>\n",
       "      <td>388</td>\n",
       "    </tr>\n",
       "    <tr>\n",
       "      <th>2</th>\n",
       "      <td>3</td>\n",
       "      <td>496</td>\n",
       "    </tr>\n",
       "    <tr>\n",
       "      <th>3</th>\n",
       "      <td>4</td>\n",
       "      <td>496</td>\n",
       "    </tr>\n",
       "    <tr>\n",
       "      <th>4</th>\n",
       "      <td>5</td>\n",
       "      <td>421</td>\n",
       "    </tr>\n",
       "  </tbody>\n",
       "</table>\n",
       "</div>"
      ],
      "text/plain": [
       "  dayofyear  count\n",
       "0         1    584\n",
       "1         2    388\n",
       "2         3    496\n",
       "3         4    496\n",
       "4         5    421"
      ]
     },
     "execution_count": 155,
     "metadata": {},
     "output_type": "execute_result"
    }
   ],
   "source": [
    "table_by_date = gtd_table[['dayofyear','id']].groupby(['dayofyear']).count()\n",
    "table_by_date = table_by_date.rename(index=str, columns={'id':'count'})\n",
    "table_by_date = table_by_date.reset_index()\n",
    "table_by_date.head()"
   ]
  },
  {
   "cell_type": "markdown",
   "metadata": {},
   "source": [
    "Like before, we want to generate some appropriate markers for our x-axis. Otherwise the data will be difficult to read."
   ]
  },
  {
   "cell_type": "code",
   "execution_count": 156,
   "metadata": {},
   "outputs": [],
   "source": [
    "month_labels = ['JAN','FEB','MAR','APR','MAY','JUN','JUL','AUG','SEP','OCT','NOV','DEC']\n",
    "month_ticks = []\n",
    "for i in range(12):\n",
    "    month_ticks.append(datetime(2000,i+1,1).timetuple().tm_yday)"
   ]
  },
  {
   "cell_type": "code",
   "execution_count": 114,
   "metadata": {
    "scrolled": false
   },
   "outputs": [
    {
     "data": {
      "image/png": "[encoded data removed]",
      "text/plain": [
       "<matplotlib.figure.Figure at 0x7f0b1d875cf8>"
      ]
     },
     "metadata": {},
     "output_type": "display_data"
    }
   ],
   "source": [
    "fig, ax = plt.subplots(figsize=(15,5))\n",
    "sns.barplot(x='dayofyear',y='count',data=table_by_date);\n",
    "plt.title('Terrorist Attacks vs Time of Year')\n",
    "plt.ylabel('Number of Attacks')\n",
    "plt.xlabel('Time of Year (Date)')\n",
    "plt.xticks(month_ticks);\n",
    "ax.set_xticklabels(month_labels);"
   ]
  },
  {
   "cell_type": "markdown",
   "metadata": {},
   "source": [
    "This time we see a clear difference in counts of terrorist data on certain days of the year. Based on the size of the dataset, we cannot explain this as coincidence. The discrepancy in number of attacks should be correlated to one of the features in our original database or data that can be gained online. One hypothesis we could test is that the spikes in activity are associated with special events throughout the year. Perhaps religious holidays that incite activity from radical groups?"
   ]
  },
  {
   "cell_type": "markdown",
   "metadata": {},
   "source": [
    "## Stratifying by Country"
   ]
  },
  {
   "cell_type": "markdown",
   "metadata": {},
   "source": [
    "Every day is a holiday somewhere. In order to draw a more meaningful correlation we could try narrowing down our analysis to a single country. Since the U.S. seems to have the largest dataset of reported terrorist attacks we can focus on it as well as the national and religious holidays observed in the country.\n",
    "\n",
    "We'll start with the chronological data as before, this time grouping the analysis by year from the start since the data is easier to interpret."
   ]
  },
  {
   "cell_type": "code",
   "execution_count": 162,
   "metadata": {
    "scrolled": true
   },
   "outputs": [
    {
     "data": {
      "image/png": "[encoded data removed]",
      "text/plain": [
       "<matplotlib.figure.Figure at 0x7f0b18375b00>"
      ]
     },
     "metadata": {},
     "output_type": "display_data"
    }
   ],
   "source": [
    "# Group table by date into counts\n",
    "usa_chy = gtd_table.loc[gtd_table['country'] == 'United States']\n",
    "usa_chy = usa_chy[['year','id']].groupby(['year']).count()\n",
    "usa_chy = usa_chy.rename(index=str, columns={'id':'count'})\n",
    "usa_chy = usa_chy.reset_index()\n",
    "\n",
    "# Graph and label figure\n",
    "fig, ax = plt.subplots(figsize=(15,5))\n",
    "sns.barplot(x='year',y='count',data=usa_chy)\n",
    "plt.title('Terrorist Attacks vs Year (usa)')\n",
    "plt.ylabel('Number of Attacks')\n",
    "plt.xlabel('Year')\n",
    "plt.xticks(year_ticks2);\n",
    "ax.set_xticklabels(year_labels2);"
   ]
  },
  {
   "cell_type": "markdown",
   "metadata": {},
   "source": [
    "This is... odd. The global trend sees an overall uptrend in terrorist activity whereas the United states sees a downtrend since the '70s. There are several factors that could explain this."
   ]
  },
  {
   "cell_type": "code",
   "execution_count": 119,
   "metadata": {},
   "outputs": [
    {
     "data": {
      "image/png": "[encoded data removed]",
      "text/plain": [
       "<matplotlib.figure.Figure at 0x7f0b18610f28>"
      ]
     },
     "metadata": {},
     "output_type": "display_data"
    }
   ],
   "source": [
    "table_by_date = table_usa[['dayofyear','id']].groupby(['dayofyear']).count()\n",
    "table_by_date = table_by_date.rename(index=str, columns={'id':'count'})\n",
    "table_by_date = table_by_date.reset_index()\n",
    "table_by_date.head()\n",
    "\n",
    "# plot the data\n",
    "fig, ax = plt.subplots(figsize=(15,5))\n",
    "sns.barplot(x='dayofyear',y='count',data=table_by_date);\n",
    "plt.title('Terrorist Attacks vs Time of Year (USA)')\n",
    "plt.ylabel('Number of Attacks')\n",
    "plt.xlabel('Time of Year (Date)')\n",
    "plt.xticks(month_ticks);\n",
    "ax.set_xticklabels(month_labels);"
   ]
  },
  {
   "cell_type": "markdown",
   "metadata": {},
   "source": [
    "# IV. Insight and Conclusion"
   ]
  },
  {
   "cell_type": "markdown",
   "metadata": {
    "collapsed": true
   },
   "source": [
    "Due to a lot of lat minute pivoting we "
   ]
  }
 ],
 "metadata": {
  "kernelspec": {
   "display_name": "Python 3",
   "language": "python",
   "name": "python3"
  },
  "language_info": {
   "codemirror_mode": {
    "name": "ipython",
    "version": 3
   },
   "file_extension": ".py",
   "mimetype": "text/x-python",
   "name": "python",
   "nbconvert_exporter": "python",
   "pygments_lexer": "ipython3",
   "version": "3.6.2"
  }
 },
 "nbformat": 4,
 "nbformat_minor": 2
}
